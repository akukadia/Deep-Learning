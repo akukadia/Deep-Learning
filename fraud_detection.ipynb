{
 "cells": [
  {
   "cell_type": "code",
   "execution_count": 32,
   "metadata": {},
   "outputs": [
    {
     "name": "stdout",
     "output_type": "stream",
     "text": [
      "   step      type    amount     nameOrig  oldbalanceOrg  newbalanceOrig  \\\n",
      "0     1   PAYMENT   9839.64  C1231006815       170136.0       160296.36   \n",
      "1     1   PAYMENT   1864.28  C1666544295        21249.0        19384.72   \n",
      "2     1  TRANSFER    181.00  C1305486145          181.0            0.00   \n",
      "3     1  CASH_OUT    181.00   C840083671          181.0            0.00   \n",
      "4     1   PAYMENT  11668.14  C2048537720        41554.0        29885.86   \n",
      "\n",
      "      nameDest  oldbalanceDest  newbalanceDest  isFraud  isFlaggedFraud  \n",
      "0  M1979787155             0.0             0.0        0               0  \n",
      "1  M2044282225             0.0             0.0        0               0  \n",
      "2   C553264065             0.0             0.0        1               0  \n",
      "3    C38997010         21182.0             0.0        1               0  \n",
      "4  M1230701703             0.0             0.0        0               0  \n"
     ]
    }
   ],
   "source": [
    "import pandas as pd\n",
    "import numpy as np\n",
    "from sklearn.model_selection import train_test_split, StratifiedKFold\n",
    "from sklearn.preprocessing import StandardScaler, OneHotEncoder\n",
    "from sklearn.metrics import precision_recall_curve, average_precision_score\n",
    "from imblearn.over_sampling import SMOTE\n",
    "from imblearn.under_sampling import RandomUnderSampler\n",
    "from imblearn.pipeline import Pipeline\n",
    "from sklearn.ensemble import RandomForestClassifier\n",
    "import xgboost as xgb\n",
    "import lightgbm as lgb\n",
    "from sklearn.compose import ColumnTransformer\n",
    "from sklearn.model_selection import RandomizedSearchCV\n",
    "from sklearn.ensemble import VotingClassifier\n",
    "from sklearn.metrics import average_precision_score\n",
    "\n",
    "df = pd.read_csv(r\"data.csv\")\n",
    "\n",
    "x = df.head()\n",
    "\n",
    "print(x)"
   ]
  },
  {
   "cell_type": "code",
   "execution_count": 2,
   "metadata": {},
   "outputs": [
    {
     "name": "stdout",
     "output_type": "stream",
     "text": [
      "['step', 'type', 'amount', 'nameOrig', 'oldbalanceOrg', 'newbalanceOrig', 'nameDest', 'oldbalanceDest', 'newbalanceDest', 'isFraud', 'isFlaggedFraud']\n"
     ]
    }
   ],
   "source": [
    "column_names = list(df.columns.values)\n",
    "\n",
    "print(column_names)"
   ]
  },
  {
   "cell_type": "code",
   "execution_count": 3,
   "metadata": {},
   "outputs": [
    {
     "name": "stdout",
     "output_type": "stream",
     "text": [
      "step              False\n",
      "type              False\n",
      "amount            False\n",
      "nameOrig          False\n",
      "oldbalanceOrg     False\n",
      "newbalanceOrig    False\n",
      "nameDest          False\n",
      "oldbalanceDest    False\n",
      "newbalanceDest    False\n",
      "isFraud           False\n",
      "isFlaggedFraud    False\n",
      "dtype: bool\n"
     ]
    }
   ],
   "source": [
    "null_values = df.isna().any()\n",
    "\n",
    "print(null_values)"
   ]
  },
  {
   "cell_type": "code",
   "execution_count": 4,
   "metadata": {},
   "outputs": [
    {
     "name": "stdout",
     "output_type": "stream",
     "text": [
      "Fraud distribution:\n",
      "isFraud\n",
      "0    0.998709\n",
      "1    0.001291\n",
      "Name: proportion, dtype: float64\n"
     ]
    }
   ],
   "source": [
    "fraud_distribution = df['isFraud'].value_counts(normalize=True)\n",
    "print(\"Fraud distribution:\")\n",
    "print(fraud_distribution)"
   ]
  },
  {
   "cell_type": "code",
   "execution_count": 5,
   "metadata": {},
   "outputs": [
    {
     "name": "stdout",
     "output_type": "stream",
     "text": [
      "Contingency table:\n",
      "isFlaggedFraud        0   1\n",
      "isFraud                    \n",
      "0               6354407   0\n",
      "1                  8197  16\n",
      "\n",
      "Chi-square statistic: 11616.665816627796\n",
      "p-value: 0.0\n",
      "dof: 1\n",
      "expected: [[6.35439102e+06 1.59793469e+01]\n",
      " [8.21297935e+03 2.06531272e-02]]\n"
     ]
    }
   ],
   "source": [
    "from scipy.stats import chi2_contingency\n",
    "\n",
    "contingency_table = pd.crosstab(df['isFraud'], df['isFlaggedFraud'])\n",
    "chi2, p_value, dof, expected = chi2_contingency(contingency_table)\n",
    "\n",
    "print(\"Contingency table:\")\n",
    "print(contingency_table)\n",
    "print(f\"\\nChi-square statistic: {chi2}\")\n",
    "print(f\"p-value: {p_value}\")\n",
    "print(f\"dof: {dof}\")\n",
    "print(f\"expected: {expected}\")"
   ]
  },
  {
   "cell_type": "code",
   "execution_count": 6,
   "metadata": {},
   "outputs": [],
   "source": [
    "# Feature engineering\n",
    "df['amount_to_oldbalanceOrg'] = df['amount'] / (df['oldbalanceOrg'] + 1)  # Add 1 to avoid division by zero\n",
    "df['amount_to_newbalanceOrig'] = df['amount'] / (df['newbalanceOrig'] + 1)\n",
    "df['balance_change_org'] = df['newbalanceOrig'] - df['oldbalanceOrg']\n",
    "df['balance_change_dest'] = df['newbalanceDest'] - df['oldbalanceDest']"
   ]
  },
  {
   "cell_type": "code",
   "execution_count": 18,
   "metadata": {},
   "outputs": [],
   "source": [
    "X = df.drop(['isFraud', 'isFlaggedFraud','nameOrig', 'nameDest'], axis=1)\n",
    "y = df['isFraud']"
   ]
  },
  {
   "cell_type": "code",
   "execution_count": 19,
   "metadata": {},
   "outputs": [],
   "source": [
    "# Identify numeric and categorical columns\n",
    "numeric_features = X.select_dtypes(include=['int64', 'float64']).columns\n",
    "categorical_features = X.select_dtypes(include=['object']).columns"
   ]
  },
  {
   "cell_type": "code",
   "execution_count": 20,
   "metadata": {},
   "outputs": [],
   "source": [
    "X_train, X_test, y_train, y_test = train_test_split(X, y, test_size=0.2, random_state=42, stratify=y)"
   ]
  },
  {
   "cell_type": "code",
   "execution_count": 21,
   "metadata": {},
   "outputs": [],
   "source": [
    "preprocessor = ColumnTransformer(\n",
    "    transformers=[\n",
    "        ('num', StandardScaler(), numeric_features),\n",
    "        ('cat', OneHotEncoder(handle_unknown='ignore'), categorical_features)\n",
    "    ])"
   ]
  },
  {
   "cell_type": "code",
   "execution_count": 22,
   "metadata": {},
   "outputs": [],
   "source": [
    "over = SMOTE(sampling_strategy=0.1)  # Increase minority class to 10% of majority\n",
    "under = RandomUnderSampler(sampling_strategy=0.5)  # Reduce majority class to be twice the now-increased minority"
   ]
  },
  {
   "cell_type": "code",
   "execution_count": 33,
   "metadata": {},
   "outputs": [],
   "source": [
    "def tune_model(model, param_dist, X, y):\n",
    "    random_search = RandomizedSearchCV(model, param_distributions=param_dist, \n",
    "                                       n_iter=20, cv=3, scoring='average_precision',\n",
    "                                       n_jobs=-1, random_state=42)\n",
    "    random_search.fit(X, y)\n",
    "    return random_search.best_estimator_"
   ]
  },
  {
   "cell_type": "code",
   "execution_count": 34,
   "metadata": {},
   "outputs": [],
   "source": [
    "rf_params = {\n",
    "    'n_estimators': [100, 200, 300],\n",
    "    'max_depth': [10, 20, 30, None],\n",
    "    'min_samples_split': [2, 5, 10],\n",
    "    'min_samples_leaf': [1, 2, 4]\n",
    "}\n",
    "\n",
    "xgb_params = {\n",
    "    'n_estimators': [100, 200, 300],\n",
    "    'max_depth': [3, 4, 5, 6],\n",
    "    'learning_rate': [0.01, 0.1, 0.2],\n",
    "    'subsample': [0.8, 0.9, 1.0],\n",
    "    'colsample_bytree': [0.8, 0.9, 1.0]\n",
    "}\n",
    "\n",
    "lgb_params = {\n",
    "    'n_estimators': [100, 200, 300],\n",
    "    'max_depth': [5, 10, 15, -1],\n",
    "    'learning_rate': [0.01, 0.1, 0.2],\n",
    "    'subsample': [0.8, 0.9, 1.0],\n",
    "    'colsample_bytree': [0.8, 0.9, 1.0]\n",
    "}"
   ]
  },
  {
   "cell_type": "code",
   "execution_count": 35,
   "metadata": {},
   "outputs": [],
   "source": [
    "# Create pipelines for each model\n",
    "rf_pipeline = Pipeline([\n",
    "    ('preprocessor', preprocessor),\n",
    "    ('over', over),\n",
    "    ('under', under),\n",
    "    ('model', RandomForestClassifier(class_weight='balanced', n_jobs=-1))\n",
    "])\n",
    "\n",
    "xgb_pipeline = Pipeline([\n",
    "    ('preprocessor', preprocessor),\n",
    "    ('over', over),\n",
    "    ('under', under),\n",
    "    ('model', xgb.XGBClassifier(scale_pos_weight=1/0.001291))\n",
    "])\n",
    "\n",
    "lgb_pipeline = Pipeline([\n",
    "    ('preprocessor', preprocessor),\n",
    "    ('over', over),\n",
    "    ('under', under),\n",
    "    ('model', lgb.LGBMClassifier(class_weight='balanced'))\n",
    "])"
   ]
  },
  {
   "cell_type": "code",
   "execution_count": 37,
   "metadata": {},
   "outputs": [
    {
     "name": "stdout",
     "output_type": "stream",
     "text": [
      "Tuning Random Forest...\n",
      "Tuning XGBoost...\n",
      "Tuning LightGBM...\n",
      "[LightGBM] [Info] Number of positive: 508352, number of negative: 1016704\n",
      "[LightGBM] [Info] Auto-choosing row-wise multi-threading, the overhead of testing was 0.005522 seconds.\n",
      "You can set `force_row_wise=true` to remove the overhead.\n",
      "And if memory is not enough, you can set `force_col_wise=true`.\n",
      "[LightGBM] [Info] Total Bins 1540\n",
      "[LightGBM] [Info] Number of data points in the train set: 1525056, number of used features: 11\n",
      "[LightGBM] [Info] [binary:BoostFromScore]: pavg=0.500000 -> initscore=0.000000\n"
     ]
    }
   ],
   "source": [
    "print(\"Tuning Random Forest...\")\n",
    "rf_tuned = tune_model(rf_pipeline, {'model__' + key: value for key, value in rf_params.items()}, X_train, y_train)\n",
    "\n",
    "print(\"Tuning XGBoost...\")\n",
    "xgb_tuned = tune_model(xgb_pipeline, {'model__' + key: value for key, value in xgb_params.items()}, X_train, y_train)\n",
    "\n",
    "print(\"Tuning LightGBM...\")\n",
    "lgb_tuned = tune_model(lgb_pipeline, {'model__' + key: value for key, value in lgb_params.items()}, X_train, y_train)\n"
   ]
  },
  {
   "cell_type": "code",
   "execution_count": 23,
   "metadata": {},
   "outputs": [],
   "source": [
    "\n",
    "#models = {\n",
    "#    'Random Forest': RandomForestClassifier(n_estimators=100, class_weight='balanced', n_jobs=-1),\n",
    "#    'XGBoost': xgb.XGBClassifier(scale_pos_weight=1/0.001291),  # approximate ratio of negative to positive samples\n",
    "#    'LightGBM': lgb.LGBMClassifier(class_weight='balanced')\n",
    "#}\n",
    "#*/"
   ]
  },
  {
   "cell_type": "code",
   "execution_count": 38,
   "metadata": {},
   "outputs": [],
   "source": [
    "def evaluate_model(model, X, y):\n",
    "    y_pred_proba = model.predict_proba(X)[:, 1]\n",
    "    precision, recall, _ = precision_recall_curve(y, y_pred_proba)\n",
    "    avg_precision = average_precision_score(y, y_pred_proba)\n",
    "    return precision, recall, avg_precision"
   ]
  },
  {
   "cell_type": "code",
   "execution_count": 39,
   "metadata": {},
   "outputs": [
    {
     "name": "stdout",
     "output_type": "stream",
     "text": [
      "\n",
      "Random Forest:\n",
      "Test Average Precision: 0.9597\n",
      "\n",
      "XGBoost:\n",
      "Test Average Precision: 0.9617\n",
      "\n",
      "LightGBM:\n",
      "Test Average Precision: 0.9256\n"
     ]
    }
   ],
   "source": [
    "for name, model in [('Random Forest', rf_tuned), ('XGBoost', xgb_tuned), ('LightGBM', lgb_tuned)]:\n",
    "    _, _, avg_precision = evaluate_model(model, X_test, y_test)\n",
    "    print(f\"\\n{name}:\")\n",
    "    print(f\"Test Average Precision: {avg_precision:.4f}\")\n",
    "\n",
    "# Create and evaluate ensemble\n",
    "ensemble = VotingClassifier(\n",
    "    estimators=[('rf', rf_tuned), ('xgb', xgb_tuned), ('lgb', lgb_tuned)],\n",
    "    voting='soft'\n",
    ")\n"
   ]
  },
  {
   "cell_type": "code",
   "execution_count": 41,
   "metadata": {},
   "outputs": [
    {
     "name": "stdout",
     "output_type": "stream",
     "text": [
      "[LightGBM] [Info] Number of positive: 508352, number of negative: 1016704\n",
      "[LightGBM] [Info] Auto-choosing row-wise multi-threading, the overhead of testing was 0.002967 seconds.\n",
      "You can set `force_row_wise=true` to remove the overhead.\n",
      "And if memory is not enough, you can set `force_col_wise=true`.\n",
      "[LightGBM] [Info] Total Bins 1540\n",
      "[LightGBM] [Info] Number of data points in the train set: 1525056, number of used features: 11\n",
      "[LightGBM] [Info] [binary:BoostFromScore]: pavg=0.500000 -> initscore=0.000000\n",
      "\n",
      "Ensemble:\n",
      "Test Average Precision: 0.9673\n",
      "\n",
      "Top 10 Important Features:\n",
      "type_CASH_OUT: 0.0307\n",
      "oldbalanceDest: 0.0408\n",
      "type_CASH_IN: 0.0442\n",
      "newbalanceDest: 0.0600\n",
      "type_PAYMENT: 0.0632\n",
      "step: 0.0647\n",
      "type_TRANSFER: 0.0781\n",
      "amount: 0.1539\n",
      "newbalanceOrig: 0.1588\n",
      "oldbalanceOrg: 0.3052\n"
     ]
    },
    {
     "data": {
      "image/png": "[encoded data removed]",
      "text/plain": [
       "<Figure size 1000x600 with 1 Axes>"
      ]
     },
     "metadata": {},
     "output_type": "display_data"
    }
   ],
   "source": [
    "ensemble.fit(X_train, y_train)\n",
    "_, _, ensemble_avg_precision = evaluate_model(ensemble, X_test, y_test)\n",
    "print(f\"\\nEnsemble:\")\n",
    "print(f\"Test Average Precision: {ensemble_avg_precision:.4f}\")\n",
    "\n",
    "# Feature importance (for Random Forest)\n",
    "feature_importance = rf_tuned.named_steps['model'].feature_importances_\n",
    "feature_names = (numeric_features.tolist() + \n",
    "                 rf_tuned.named_steps['preprocessor']\n",
    "                 .named_transformers_['cat']\n",
    "                 .get_feature_names_out(categorical_features).tolist())\n",
    "\n",
    "sorted_idx = np.argsort(feature_importance)\n",
    "print(\"\\nTop 10 Important Features:\")\n",
    "for idx in sorted_idx[-10:]:\n",
    "    print(f\"{feature_names[idx]}: {feature_importance[idx]:.4f}\")\n",
    "\n",
    "# Plot feature importance\n",
    "import matplotlib.pyplot as plt\n",
    "\n",
    "plt.figure(figsize=(10, 6))\n",
    "plt.title(\"Feature Importances\")\n",
    "plt.barh(range(len(sorted_idx[-10:])), feature_importance[sorted_idx[-10:]])\n",
    "plt.yticks(range(len(sorted_idx[-10:])), [feature_names[i] for i in sorted_idx[-10:]])\n",
    "plt.xlabel(\"Feature Importance\")\n",
    "plt.tight_layout()\n",
    "plt.show()"
   ]
  },
  {
   "cell_type": "code",
   "execution_count": 26,
   "metadata": {},
   "outputs": [
    {
     "name": "stdout",
     "output_type": "stream",
     "text": [
      "[LightGBM] [Info] Number of positive: 406682, number of negative: 813364\n",
      "[LightGBM] [Info] Auto-choosing row-wise multi-threading, the overhead of testing was 0.005729 seconds.\n",
      "You can set `force_row_wise=true` to remove the overhead.\n",
      "And if memory is not enough, you can set `force_col_wise=true`.\n",
      "[LightGBM] [Info] Total Bins 1540\n",
      "[LightGBM] [Info] Number of data points in the train set: 1220046, number of used features: 11\n",
      "[LightGBM] [Info] [binary:BoostFromScore]: pavg=0.500000 -> initscore=0.000000\n",
      "[LightGBM] [Info] Number of positive: 406682, number of negative: 813364\n",
      "[LightGBM] [Info] Auto-choosing row-wise multi-threading, the overhead of testing was 0.004720 seconds.\n",
      "You can set `force_row_wise=true` to remove the overhead.\n",
      "And if memory is not enough, you can set `force_col_wise=true`.\n",
      "[LightGBM] [Info] Total Bins 1540\n",
      "[LightGBM] [Info] Number of data points in the train set: 1220046, number of used features: 11\n",
      "[LightGBM] [Info] [binary:BoostFromScore]: pavg=0.500000 -> initscore=0.000000\n",
      "[LightGBM] [Info] Number of positive: 406682, number of negative: 813364\n",
      "[LightGBM] [Info] Auto-choosing row-wise multi-threading, the overhead of testing was 0.003782 seconds.\n",
      "You can set `force_row_wise=true` to remove the overhead.\n",
      "And if memory is not enough, you can set `force_col_wise=true`.\n",
      "[LightGBM] [Info] Total Bins 1540\n",
      "[LightGBM] [Info] Number of data points in the train set: 1220046, number of used features: 11\n",
      "[LightGBM] [Info] [binary:BoostFromScore]: pavg=0.500000 -> initscore=0.000000\n",
      "[LightGBM] [Info] Number of positive: 406682, number of negative: 813364\n",
      "[LightGBM] [Info] Auto-choosing row-wise multi-threading, the overhead of testing was 0.003434 seconds.\n",
      "You can set `force_row_wise=true` to remove the overhead.\n",
      "And if memory is not enough, you can set `force_col_wise=true`.\n",
      "[LightGBM] [Info] Total Bins 1540\n",
      "[LightGBM] [Info] Number of data points in the train set: 1220046, number of used features: 11\n",
      "[LightGBM] [Info] [binary:BoostFromScore]: pavg=0.500000 -> initscore=0.000000\n",
      "[LightGBM] [Info] Number of positive: 406682, number of negative: 813364\n",
      "[LightGBM] [Info] Auto-choosing row-wise multi-threading, the overhead of testing was 0.004195 seconds.\n",
      "You can set `force_row_wise=true` to remove the overhead.\n",
      "And if memory is not enough, you can set `force_col_wise=true`.\n",
      "[LightGBM] [Info] Total Bins 1540\n",
      "[LightGBM] [Info] Number of data points in the train set: 1220046, number of used features: 11\n",
      "[LightGBM] [Info] [binary:BoostFromScore]: pavg=0.500000 -> initscore=0.000000\n",
      "[LightGBM] [Info] Number of positive: 508352, number of negative: 1016704\n",
      "[LightGBM] [Info] Auto-choosing row-wise multi-threading, the overhead of testing was 0.004118 seconds.\n",
      "You can set `force_row_wise=true` to remove the overhead.\n",
      "And if memory is not enough, you can set `force_col_wise=true`.\n",
      "[LightGBM] [Info] Total Bins 1540\n",
      "[LightGBM] [Info] Number of data points in the train set: 1525056, number of used features: 11\n",
      "[LightGBM] [Info] [binary:BoostFromScore]: pavg=0.500000 -> initscore=0.000000\n"
     ]
    }
   ],
   "source": [
    "results = {}\n",
    "for name, model in models.items():\n",
    "    # Create a pipeline with preprocessing, SMOTE, undersampling, and the model\n",
    "    pipeline = Pipeline([\n",
    "        ('preprocessor', preprocessor),\n",
    "        ('over', over),\n",
    "        ('under', under),\n",
    "        ('model', model)\n",
    "    ])\n",
    "    \n",
    "    # Use stratified K-Fold cross-validation\n",
    "    skf = StratifiedKFold(n_splits=5, shuffle=True, random_state=42)\n",
    "    fold_results = []\n",
    "    \n",
    "    for train_index, val_index in skf.split(X_train, y_train):\n",
    "        X_fold_train, X_fold_val = X_train.iloc[train_index], X_train.iloc[val_index]\n",
    "        y_fold_train, y_fold_val = y_train.iloc[train_index], y_train.iloc[val_index]\n",
    "        \n",
    "        pipeline.fit(X_fold_train, y_fold_train)\n",
    "        precision, recall, avg_precision = evaluate_model(pipeline, X_fold_val, y_fold_val)\n",
    "        fold_results.append(avg_precision)\n",
    "    \n",
    "    results[name] = {\n",
    "        'Cross-val Avg Precision': np.mean(fold_results),\n",
    "        'Cross-val Std Precision': np.std(fold_results)\n",
    "    }\n",
    "    \n",
    "    # Final evaluation on test set\n",
    "    pipeline.fit(X_train, y_train)\n",
    "    precision, recall, avg_precision = evaluate_model(pipeline, X_test, y_test)\n",
    "    results[name]['Test Avg Precision'] = avg_precision"
   ]
  },
  {
   "cell_type": "code",
   "execution_count": null,
   "metadata": {},
   "outputs": [
    {
     "name": "stdout",
     "output_type": "stream",
     "text": [
      "\n",
      "Random Forest:\n",
      "Cross-val Avg Precision: 0.9455\n",
      "Cross-val Std Precision: 0.0060\n",
      "Test Avg Precision: 0.9496\n",
      "\n",
      "XGBoost:\n",
      "Cross-val Avg Precision: 0.7075\n",
      "Cross-val Std Precision: 0.3526\n",
      "Test Avg Precision: 0.9539\n",
      "\n",
      "LightGBM:\n",
      "Cross-val Avg Precision: 0.8952\n",
      "Cross-val Std Precision: 0.0969\n",
      "Test Avg Precision: 0.9252\n"
     ]
    }
   ],
   "source": [
    "# Print results\n",
    "for model, metrics in results.items():\n",
    "    print(f\"\\n{model}:\")\n",
    "    for metric, value in metrics.items():\n",
    "        print(f\"{metric}: {value:.4f}\")"
   ]
  }
 ],
 "metadata": {
  "kernelspec": {
   "display_name": "yt_summary",
   "language": "python",
   "name": "python3"
  },
  "language_info": {
   "codemirror_mode": {
    "name": "ipython",
    "version": 3
   },
   "file_extension": ".py",
   "mimetype": "text/x-python",
   "name": "python",
   "nbconvert_exporter": "python",
   "pygments_lexer": "ipython3",
   "version": "3.11.9"
  }
 },
 "nbformat": 4,
 "nbformat_minor": 2
}
